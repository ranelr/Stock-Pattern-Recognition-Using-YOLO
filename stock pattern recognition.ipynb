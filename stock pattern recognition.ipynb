{
 "cells": [
  {
   "cell_type": "code",
   "execution_count": 1,
   "id": "b7100e1d-ec63-4894-a907-0711893b7651",
   "metadata": {},
   "outputs": [],
   "source": [
    "import torch\n",
    "from torchvision import transforms\n",
    "import cv2\n",
    "import numpy as np\n",
    "import matplotlib.pyplot as plt\n",
    "from ultralytics import YOLO"
   ]
  },
  {
   "cell_type": "code",
   "execution_count": 2,
   "id": "0b764c94-f61c-4e73-bef0-54ff5c9e2037",
   "metadata": {},
   "outputs": [],
   "source": [
    "# Load a model\n",
    "model = YOLO('runs/detect/train8/weights/last.pt')  # load a pretrained model (recommended for training)"
   ]
  },
  {
   "cell_type": "code",
   "execution_count": null,
   "id": "5fc0fac2-fca9-4cf5-a503-1a821dc34fec",
   "metadata": {},
   "outputs": [],
   "source": [
    "results = model.train(data='config.yaml', epochs=60, imgsz=640)"
   ]
  },
  {
   "cell_type": "code",
   "execution_count": null,
   "id": "a5b30a2b-0f39-4ccf-8919-f64a77abfcc7",
   "metadata": {},
   "outputs": [],
   "source": [
    "model"
   ]
  },
  {
   "cell_type": "code",
   "execution_count": 5,
   "id": "81b6813a-8971-4dad-b220-def1bbb95085",
   "metadata": {},
   "outputs": [
    {
     "ename": "NameError",
     "evalue": "name 'IMG' is not defined",
     "output_type": "error",
     "traceback": [
      "\u001b[0;31m---------------------------------------------------------------------------\u001b[0m",
      "\u001b[0;31mNameError\u001b[0m                                 Traceback (most recent call last)",
      "Cell \u001b[0;32mIn[5], line 1\u001b[0m\n\u001b[0;32m----> 1\u001b[0m img_ \u001b[38;5;241m=\u001b[39m cv2\u001b[38;5;241m.\u001b[39mcvtColor(\u001b[43mIMG\u001b[49m,cv2\u001b[38;5;241m.\u001b[39mCOLOR_BGR2RGB)\n",
      "\u001b[0;31mNameError\u001b[0m: name 'IMG' is not defined"
     ]
    }
   ],
   "source": [
    "img_ = cv2.cvtColor(IMG,cv2.COLOR_BGR2RGB)"
   ]
  },
  {
   "cell_type": "code",
   "execution_count": 9,
   "id": "4c2d1a2a-d932-4b54-a101-e4dc26845f52",
   "metadata": {},
   "outputs": [],
   "source": [
    "chart = 'acst.png'"
   ]
  },
  {
   "cell_type": "code",
   "execution_count": 10,
   "id": "25f63d71-0dac-4091-afdd-107f93e66743",
   "metadata": {},
   "outputs": [
    {
     "name": "stderr",
     "output_type": "stream",
     "text": [
      "\n",
      "image 1/1 /Users/ranelramac/Desktop/python projects/scratch paper projects/stock pattern recognition/acst.png: 256x640 1 wedge up, 70.6ms\n",
      "Speed: 7.2ms preprocess, 70.6ms inference, 17.3ms postprocess per image at shape (1, 3, 256, 640)\n"
     ]
    }
   ],
   "source": [
    "r = model(chart)"
   ]
  },
  {
   "cell_type": "code",
   "execution_count": 11,
   "id": "4fa7c958-a4d3-49a5-9ef8-26c2f7749fbd",
   "metadata": {},
   "outputs": [],
   "source": [
    "from PIL import Image\n",
    "# Show the results\n",
    "for i in r:\n",
    "    im_array = i.plot()  # plot a BGR numpy array of predictions\n",
    "    im = Image.fromarray(im_array[..., ::-1])  # RGB PIL image\n",
    "    im.show()  # show image"
   ]
  },
  {
   "cell_type": "code",
   "execution_count": 5,
   "id": "21731270-4f50-4d59-8a87-0c4fe87845e7",
   "metadata": {},
   "outputs": [],
   "source": [
    "cap = cv2.VideoCapture(0)"
   ]
  },
  {
   "cell_type": "code",
   "execution_count": null,
   "id": "0f49189a-b0dc-4fd1-97f9-7c0c3194d775",
   "metadata": {},
   "outputs": [],
   "source": [
    "#while webcam is open\n",
    "while cap.isOpened():\n",
    "    \n",
    "    #ret - boolean whether frame is available, frame - current captured frame\n",
    "    ret, frame = cap.read()\n",
    "\n",
    "    for i in model(frame):\n",
    "        im_array = i.plot()  # plot a BGR numpy array of predictions\n",
    "        cv2.imshow('result',im_array)  # show image\n",
    "\n",
    "    #if 'q' pressed turn off webcam\n",
    "    if cv2.waitKey(1) & 0xFF == ord('q'):\n",
    "        cv2.destroyAllWindows()\n",
    "        cv2.waitKey()\n",
    "        break"
   ]
  },
  {
   "cell_type": "code",
   "execution_count": null,
   "id": "5bb7b6da-5a60-4d4d-b018-c13b2f4e69a2",
   "metadata": {},
   "outputs": [],
   "source": []
  }
 ],
 "metadata": {
  "kernelspec": {
   "display_name": "Python 3 (ipykernel)",
   "language": "python",
   "name": "python3"
  },
  "language_info": {
   "codemirror_mode": {
    "name": "ipython",
    "version": 3
   },
   "file_extension": ".py",
   "mimetype": "text/x-python",
   "name": "python",
   "nbconvert_exporter": "python",
   "pygments_lexer": "ipython3",
   "version": "3.9.6"
  }
 },
 "nbformat": 4,
 "nbformat_minor": 5
}
